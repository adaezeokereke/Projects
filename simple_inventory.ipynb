{
 "cells": [
  {
   "cell_type": "code",
   "execution_count": 2,
   "metadata": {},
   "outputs": [],
   "source": [
    "#SIMPLE INVENTORY TO TRACK PRODUCTS\n",
    "global product\n",
    "product = {} #dictionary to store products\n",
    "\n",
    "\n",
    "def add_product(name, quantity,price):\n",
    "\n",
    "    if name in product:\n",
    "        print(f\"{name} already exists. use update_product to modify it.\")\n",
    "    else:\n",
    "        product[name]={\"quantity\":quantity, \"price\":price}\n",
    "        print(f\"{name} added to inventory.\")\n"
   ]
  },
  {
   "cell_type": "code",
   "execution_count": 3,
   "metadata": {},
   "outputs": [
    {
     "name": "stdout",
     "output_type": "stream",
     "text": [
      "Rice added to inventory.\n"
     ]
    }
   ],
   "source": [
    "add_product(\"Rice\",12,12000)"
   ]
  },
  {
   "cell_type": "code",
   "execution_count": 4,
   "metadata": {},
   "outputs": [
    {
     "name": "stdout",
     "output_type": "stream",
     "text": [
      "Beans added to inventory.\n"
     ]
    }
   ],
   "source": [
    "add_product(\"Beans\", 5, 5000)"
   ]
  },
  {
   "cell_type": "code",
   "execution_count": 5,
   "metadata": {},
   "outputs": [
    {
     "name": "stdout",
     "output_type": "stream",
     "text": [
      "yam added to inventory.\n"
     ]
    }
   ],
   "source": [
    "add_product(\"yam\", 4, 3000)"
   ]
  },
  {
   "cell_type": "code",
   "execution_count": 6,
   "metadata": {},
   "outputs": [
    {
     "name": "stdout",
     "output_type": "stream",
     "text": [
      "maggi added to inventory.\n"
     ]
    }
   ],
   "source": [
    "add_product(\"maggi\", 8, 600)"
   ]
  },
  {
   "cell_type": "code",
   "execution_count": 7,
   "metadata": {},
   "outputs": [
    {
     "name": "stdout",
     "output_type": "stream",
     "text": [
      "garri added to inventory.\n"
     ]
    }
   ],
   "source": [
    "add_product(\"garri\", 5, 3000)"
   ]
  },
  {
   "cell_type": "code",
   "execution_count": 8,
   "metadata": {},
   "outputs": [
    {
     "data": {
      "text/plain": [
       "{'Rice': {'quantity': 12, 'price': 12000},\n",
       " 'Beans': {'quantity': 5, 'price': 5000},\n",
       " 'yam': {'quantity': 4, 'price': 3000},\n",
       " 'maggi': {'quantity': 8, 'price': 600},\n",
       " 'garri': {'quantity': 5, 'price': 3000}}"
      ]
     },
     "execution_count": 8,
     "metadata": {},
     "output_type": "execute_result"
    }
   ],
   "source": [
    "product"
   ]
  },
  {
   "cell_type": "code",
   "execution_count": 9,
   "metadata": {},
   "outputs": [
    {
     "name": "stdout",
     "output_type": "stream",
     "text": [
      "{'Rice': {'quantity': 12, 'price': 12000}, 'Beans': {'quantity': 5, 'price': 5000}, 'yam': {'quantity': 4, 'price': 3000}, 'maggi': {'quantity': 8, 'price': 600}, 'garri': {'quantity': 5, 'price': 3000}}\n"
     ]
    }
   ],
   "source": [
    "print(product)"
   ]
  },
  {
   "cell_type": "code",
   "execution_count": 10,
   "metadata": {},
   "outputs": [
    {
     "name": "stdout",
     "output_type": "stream",
     "text": [
      "[{'quantity': 12, 'price': 12000}, {'quantity': 5, 'price': 5000}, {'quantity': 4, 'price': 3000}, {'quantity': 8, 'price': 600}, {'quantity': 5, 'price': 3000}]\n"
     ]
    }
   ],
   "source": [
    "values_list = list(product.values())\n",
    "print(values_list)"
   ]
  },
  {
   "cell_type": "code",
   "execution_count": 11,
   "metadata": {},
   "outputs": [
    {
     "data": {
      "text/plain": [
       "list"
      ]
     },
     "execution_count": 11,
     "metadata": {},
     "output_type": "execute_result"
    }
   ],
   "source": [
    "type(values_list)"
   ]
  }
 ],
 "metadata": {
  "kernelspec": {
   "display_name": "Python 3",
   "language": "python",
   "name": "python3"
  },
  "language_info": {
   "codemirror_mode": {
    "name": "ipython",
    "version": 3
   },
   "file_extension": ".py",
   "mimetype": "text/x-python",
   "name": "python",
   "nbconvert_exporter": "python",
   "pygments_lexer": "ipython3",
   "version": "3.12.9"
  }
 },
 "nbformat": 4,
 "nbformat_minor": 2
}
