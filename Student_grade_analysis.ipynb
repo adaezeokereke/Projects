{
 "cells": [
  {
   "cell_type": "code",
   "execution_count": 1,
   "metadata": {},
   "outputs": [],
   "source": [
    "#STUDENT GRADE ANALYZER\n",
    "#global student\n",
    "student = {} #dictionary to store students grades\n",
    "\n",
    "def add_grade(name,grade):\n",
    "    student[name]=grade\n",
    "    \n",
    "    def grade_letter(grade):\n",
    "        # A = 70\n",
    "        # B = 60 - 69\n",
    "        # C = 50 - 59\n",
    "        # D = 40 - 49\n",
    "        # E = 30 - 39\n",
    "        # F =  0 - 29\n",
    "        if grade >= 70:\n",
    "            return 'A'\n",
    "        elif grade >= 60 and grade <= 69:\n",
    "            return 'B'\n",
    "        elif grade >= 50 and grade <= 59:\n",
    "            return 'C'\n",
    "        elif grade >= 40 and grade <= 49:\n",
    "            return 'D'\n",
    "        elif grade >= 30 and grade <= 39:\n",
    "            return 'E'\n",
    "        elif grade >=0 and grade <= 29:\n",
    "            return 'F'\n",
    "        return\n",
    "    \n",
    "    if grade is None:\n",
    "        print(\"invalid grade\")\n",
    "    else:\n",
    "        print(f\"{name},{grade},({grade_letter(grade)})\")\n",
    "    return"
   ]
  },
  {
   "cell_type": "code",
   "execution_count": 2,
   "metadata": {},
   "outputs": [
    {
     "name": "stdout",
     "output_type": "stream",
     "text": [
      "Lisa,50,(C)\n",
      "Ada,60,(B)\n",
      "Ada,70,(A)\n",
      "Jerry,20,(F)\n",
      "Chuks,22,(F)\n",
      "Tom,70,(A)\n",
      "Tom,50,(C)\n",
      "Fingesi,35,(E)\n",
      "Chioma,45,(D)\n",
      "Mmesoma,45,(D)\n",
      "Chisom,55,(C)\n",
      "Chisom,20,(F)\n",
      "First,66,(B)\n",
      "First,70,(A)\n",
      "First,45,(D)\n",
      "Favour,70,(A)\n",
      "Favour,37,(E)\n",
      "Harry,54,(C)\n",
      "Harry,45,(D)\n",
      "Harry,50,(C)\n"
     ]
    }
   ],
   "source": [
    "add_grade('Lisa', 50)\n",
    "add_grade('Ada', 60)\n",
    "add_grade('Ada', 70)\n",
    "add_grade('Jerry', 20)\n",
    "add_grade('Chuks', 22)\n",
    "add_grade('Tom', 70)\n",
    "add_grade('Tom', 50)\n",
    "add_grade('Fingesi', 35)\n",
    "add_grade('Chioma', 45)\n",
    "add_grade('Mmesoma',45)\n",
    "add_grade('Chisom', 55)\n",
    "add_grade('Chisom', 20)\n",
    "add_grade('First', 66)\n",
    "add_grade('First', 70)\n",
    "add_grade('First', 45)\n",
    "add_grade('Favour', 70)\n",
    "add_grade('Favour', 37)\n",
    "add_grade('Harry', 54)\n",
    "add_grade('Harry', 45)\n",
    "add_grade('Harry', 50)"
   ]
  },
  {
   "cell_type": "code",
   "execution_count": 3,
   "metadata": {},
   "outputs": [
    {
     "name": "stdout",
     "output_type": "stream",
     "text": [
      "{'Lisa': 50, 'Ada': 70, 'Jerry': 20, 'Chuks': 22, 'Tom': 50, 'Fingesi': 35, 'Chioma': 45, 'Mmesoma': 45, 'Chisom': 20, 'First': 45, 'Favour': 37, 'Harry': 50}\n"
     ]
    }
   ],
   "source": [
    "#def average():\n",
    "print(student)"
   ]
  },
  {
   "cell_type": "code",
   "execution_count": 4,
   "metadata": {},
   "outputs": [],
   "source": [
    "values = student.values()\n",
    "values = list(values)"
   ]
  },
  {
   "cell_type": "code",
   "execution_count": 5,
   "metadata": {},
   "outputs": [
    {
     "data": {
      "text/plain": [
       "list"
      ]
     },
     "execution_count": 5,
     "metadata": {},
     "output_type": "execute_result"
    }
   ],
   "source": [
    "type(values)"
   ]
  },
  {
   "cell_type": "code",
   "execution_count": 6,
   "metadata": {},
   "outputs": [
    {
     "data": {
      "text/plain": [
       "[50, 70, 20, 22, 50, 35, 45, 45, 20, 45, 37, 50]"
      ]
     },
     "execution_count": 6,
     "metadata": {},
     "output_type": "execute_result"
    }
   ],
   "source": [
    "values"
   ]
  },
  {
   "cell_type": "code",
   "execution_count": 7,
   "metadata": {},
   "outputs": [
    {
     "data": {
      "text/plain": [
       "12"
      ]
     },
     "execution_count": 7,
     "metadata": {},
     "output_type": "execute_result"
    }
   ],
   "source": [
    "length = len(values)\n",
    "length"
   ]
  },
  {
   "cell_type": "code",
   "execution_count": 8,
   "metadata": {},
   "outputs": [
    {
     "name": "stdout",
     "output_type": "stream",
     "text": [
      "average grade of all student is 40.75\n"
     ]
    }
   ],
   "source": [
    "def average():\n",
    "    total_average = sum(values)/length\n",
    "    print(f\"average grade of all student is {total_average}\")\n",
    "    return\n",
    "    \n",
    "\n",
    "average()"
   ]
  },
  {
   "cell_type": "code",
   "execution_count": 9,
   "metadata": {},
   "outputs": [
    {
     "name": "stdout",
     "output_type": "stream",
     "text": [
      "The highest value is 70\n",
      "The lowest value is 20\n"
     ]
    }
   ],
   "source": [
    "def highest_lowest_value():\n",
    "    highest_value = max(values)\n",
    "    lowest_value = min(values)\n",
    "    print(f\"The highest value is {highest_value}\")\n",
    "    print(f\"The lowest value is {lowest_value}\")\n",
    "    return\n",
    "\n",
    "highest_lowest_value()"
   ]
  },
  {
   "cell_type": "code",
   "execution_count": 10,
   "metadata": {},
   "outputs": [],
   "source": [
    "def add_grade(name,grade):\n",
    "    student[name]=grade\n",
    "    \n",
    "    def grade_letter(grade):\n",
    "        # A = 70\n",
    "        # B = 60 - 69\n",
    "        # C = 50 - 59\n",
    "        # D = 40 - 49\n",
    "        # E = 30 - 39\n",
    "        # F =  0 - 29\n",
    "        if grade >= 70:\n",
    "            return 'A'\n",
    "        elif grade >= 60 and grade <= 69:\n",
    "            return 'B'\n",
    "        elif grade >= 50 and grade <= 59:\n",
    "            return 'C'\n",
    "        elif grade >= 40 and grade <= 49:\n",
    "            return 'D'\n",
    "        elif grade >= 30 and grade <= 39:\n",
    "            return 'E'\n",
    "        elif grade >=0 and grade <= 29:\n",
    "            return 'F'\n",
    "        return\n",
    "    \n",
    "    if grade is None:\n",
    "        print(\"invalid grade\")\n",
    "    else:\n",
    "        print(f\"{name},{grade},({grade_letter(grade)})\")\n",
    "    return"
   ]
  },
  {
   "cell_type": "code",
   "execution_count": 11,
   "metadata": {},
   "outputs": [
    {
     "name": "stdout",
     "output_type": "stream",
     "text": [
      "Lisa,50,(C)\n",
      "Ada,60,(B)\n",
      "Ada,70,(A)\n",
      "Jerry,20,(F)\n",
      "Chuks,22,(F)\n",
      "Tom,70,(A)\n",
      "Tom,50,(C)\n",
      "Fingesi,35,(E)\n",
      "Chioma,45,(D)\n",
      "Mmesoma,45,(D)\n",
      "Chisom,55,(C)\n",
      "Chisom,20,(F)\n",
      "First,66,(B)\n",
      "First,70,(A)\n",
      "First,45,(D)\n",
      "Favour,70,(A)\n",
      "Favour,37,(E)\n",
      "Harry,54,(C)\n",
      "Harry,45,(D)\n",
      "Harry,50,(C)\n"
     ]
    }
   ],
   "source": [
    "add_grade('Lisa', 50)\n",
    "add_grade('Ada', 60)\n",
    "add_grade('Ada', 70)\n",
    "add_grade('Jerry', 20)\n",
    "add_grade('Chuks', 22)\n",
    "add_grade('Tom', 70)\n",
    "add_grade('Tom', 50)\n",
    "add_grade('Fingesi', 35)\n",
    "add_grade('Chioma', 45)\n",
    "add_grade('Mmesoma',45)\n",
    "add_grade('Chisom', 55)\n",
    "add_grade('Chisom', 20)\n",
    "add_grade('First', 66)\n",
    "add_grade('First', 70)\n",
    "add_grade('First', 45)\n",
    "add_grade('Favour', 70)\n",
    "add_grade('Favour', 37)\n",
    "add_grade('Harry', 54)\n",
    "add_grade('Harry', 45)\n",
    "add_grade('Harry', 50)"
   ]
  }
 ],
 "metadata": {
  "kernelspec": {
   "display_name": "Python 3",
   "language": "python",
   "name": "python3"
  },
  "language_info": {
   "codemirror_mode": {
    "name": "ipython",
    "version": 3
   },
   "file_extension": ".py",
   "mimetype": "text/x-python",
   "name": "python",
   "nbconvert_exporter": "python",
   "pygments_lexer": "ipython3",
   "version": "3.12.9"
  }
 },
 "nbformat": 4,
 "nbformat_minor": 2
}
