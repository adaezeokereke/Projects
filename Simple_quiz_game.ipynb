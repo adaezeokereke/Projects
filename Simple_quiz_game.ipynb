{
 "cells": [
  {
   "cell_type": "markdown",
   "metadata": {},
   "source": [
    "SIMPLE QUIZ GAME\n",
    "This program is for a basic quiz game that asks the user multiple choice questions and gives feedback on their answers."
   ]
  },
  {
   "cell_type": "code",
   "execution_count": null,
   "metadata": {},
   "outputs": [],
   "source": [
    "\"\"\"display a question\"\"\"\n",
    "def input_question(question):\n",
    "    single_question = []\n",
    "\n",
    "    while True:\n",
    "        question = ()\n",
    "\n",
    "\"\"\"display an answer\"\"\"\n",
    "def input_answer(option):\n",
    "    check_answer = []\n",
    "\n",
    "\"\"\"calculate final score\"\"\"\n",
    "def final_score(score):\n",
    "    return count / len(input_question)\n",
    "\n",
    "\n"
   ]
  }
 ],
 "metadata": {
  "language_info": {
   "name": "python"
  }
 },
 "nbformat": 4,
 "nbformat_minor": 2
}
