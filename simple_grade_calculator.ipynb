{
 "cells": [
  {
   "cell_type": "code",
   "execution_count": 14,
   "metadata": {},
   "outputs": [],
   "source": [
    "#global students\n",
    "students = {} #dictionary to store all students and their grades\n",
    "\n",
    "def student_info(name,grade,average_grade):\n",
    "    students[name]='grade','average_grade'\n",
    "\n",
    "\n",
    "def grade_letter(grade):\n",
    "    name = input(\"enter your name: \")\n",
    "    grade = input(\"grade\")\n",
    "    # A = 70\n",
    "    # B = 60 - 69\n",
    "    # C = 50 - 59\n",
    "    # D = 40 - 49\n",
    "    # E = 30 - 39\n",
    "    # F =  0 - 29\n",
    "    if grade >= 70:\n",
    "            return 'A'\n",
    "    elif grade >= 60 and grade <= 69:\n",
    "            return 'B'\n",
    "    elif grade >= 50 and grade <= 59:\n",
    "            return 'C'\n",
    "    elif grade >= 40 and grade <= 49:\n",
    "            return 'D'\n",
    "    elif grade >= 30 and grade <= 39:\n",
    "            return 'E'\n",
    "    elif grade >=0 and grade <= 29:\n",
    "            return 'F'\n",
    "    return\n",
    "    if grade is None:\n",
    "        print(\"invalid grade\")\n",
    "    else:\n",
    "        print(f\"{name},{grade},({grade_letter(grade)})\")\n",
    "    return\n",
    "\n",
    "def average(grade):\n",
    "    #average grade for each student in the class is 50.\n",
    "    if grade >=30:\n",
    "        return 'Pass'\n",
    "    if grade < 30:\n",
    "        return 'Fail'\n",
    "    return\n",
    "\n"
   ]
  },
  {
   "cell_type": "code",
   "execution_count": null,
   "metadata": {},
   "outputs": [],
   "source": []
  },
  {
   "cell_type": "code",
   "execution_count": 1,
   "metadata": {},
   "outputs": [],
   "source": [
    "students = [] #LIST TO STORE ALL STUDENTS INFORMATION\n"
   ]
  },
  {
   "cell_type": "code",
   "execution_count": 3,
   "metadata": {},
   "outputs": [
    {
     "name": "stdout",
     "output_type": "stream",
     "text": [
      "[{'name': 'Ada', 'grades': {'Maths': 70, 'English': 50, 'Social_studies': 60, 'Computer': 66}}, {'name': 'Chioma', 'grades': {'Maths': 60, 'English': 60, 'Social_studies': 65, 'Computer': 54}}, {'name': 'Hillary', 'grades': {'Maths': 45, 'English': 30, 'Social_studies': 70, 'Computer': 67}}, {'name': 'Mmesoma', 'grades': {'Maths': 35, 'English': 50, 'Social_studies': 45, 'Computer': 65}}, {'name': 'David', 'grades': {'Maths': 20, 'English': 35, 'Social_studies': 45, 'Computer': 42}}, {'name': 'Nathan', 'grades': {'Maths': 50, 'English': 69, 'Social_studies': 45, 'Computer': 50}}, {'name': 'Elizabeth', 'grades': {'Maths': 70, 'English': 40, 'Social_studies': 30, 'Computer': 60}}, {'name': 'Gregory', 'grades': {'Maths': 30, 'English': 49, 'Social_studies': 35, 'Computer': 46}}]\n"
     ]
    }
   ],
   "source": [
    "#list of dictionaries containing all students and their grades in each subject\n",
    "student = [\n",
    "     {'name':'Ada','grades':{'Maths':70,'English':50,'Social_studies':60,'Computer':66}},\n",
    "     {'name':'Chioma','grades':{'Maths':60,'English':60,'Social_studies':65,'Computer':54}},\n",
    "     {'name':'Hillary','grades':{'Maths':45,'English':30,'Social_studies':70,'Computer':67}},\n",
    "     {'name':'Mmesoma','grades':{'Maths':35,'English':50,'Social_studies':45,'Computer':65}},\n",
    "     {'name':'David','grades':{'Maths':20,'English':35,'Social_studies':45,'Computer':42}},\n",
    "     {'name':'Nathan','grades':{'Maths':50,'English':69,'Social_studies':45,'Computer':50}},\n",
    "     {'name':'Elizabeth','grades':{'Maths':70,'English':40,'Social_studies':30,'Computer':60}},\n",
    "     {'name':'Gregory','grades':{'Maths':30,'English':49,'Social_studies':35,'Computer':46}}\n",
    "     ]\n",
    "print(student)\n"
   ]
  },
  {
   "cell_type": "code",
   "execution_count": 4,
   "metadata": {},
   "outputs": [
    {
     "data": {
      "text/plain": [
       "list"
      ]
     },
     "execution_count": 4,
     "metadata": {},
     "output_type": "execute_result"
    }
   ],
   "source": [
    "type(student)"
   ]
  },
  {
   "cell_type": "code",
   "execution_count": 5,
   "metadata": {},
   "outputs": [
    {
     "data": {
      "text/plain": [
       "[{'name': 'Ada',\n",
       "  'grades': {'Maths': 70,\n",
       "   'English': 50,\n",
       "   'Social_studies': 60,\n",
       "   'Computer': 66}},\n",
       " {'name': 'Chioma',\n",
       "  'grades': {'Maths': 60,\n",
       "   'English': 60,\n",
       "   'Social_studies': 65,\n",
       "   'Computer': 54}},\n",
       " {'name': 'Hillary',\n",
       "  'grades': {'Maths': 45,\n",
       "   'English': 30,\n",
       "   'Social_studies': 70,\n",
       "   'Computer': 67}},\n",
       " {'name': 'Mmesoma',\n",
       "  'grades': {'Maths': 35,\n",
       "   'English': 50,\n",
       "   'Social_studies': 45,\n",
       "   'Computer': 65}},\n",
       " {'name': 'David',\n",
       "  'grades': {'Maths': 20,\n",
       "   'English': 35,\n",
       "   'Social_studies': 45,\n",
       "   'Computer': 42}},\n",
       " {'name': 'Nathan',\n",
       "  'grades': {'Maths': 50,\n",
       "   'English': 69,\n",
       "   'Social_studies': 45,\n",
       "   'Computer': 50}},\n",
       " {'name': 'Elizabeth',\n",
       "  'grades': {'Maths': 70,\n",
       "   'English': 40,\n",
       "   'Social_studies': 30,\n",
       "   'Computer': 60}},\n",
       " {'name': 'Gregory',\n",
       "  'grades': {'Maths': 30,\n",
       "   'English': 49,\n",
       "   'Social_studies': 35,\n",
       "   'Computer': 46}}]"
      ]
     },
     "execution_count": 5,
     "metadata": {},
     "output_type": "execute_result"
    }
   ],
   "source": [
    "student"
   ]
  },
  {
   "cell_type": "code",
   "execution_count": null,
   "metadata": {},
   "outputs": [],
   "source": [
    "def average():\n",
    "    total_average = sum(grades)/length\n",
    "    print(f\"average grade of {student} is {total_average}\")\n",
    "    return\n",
    "    \n",
    "\n",
    "average()"
   ]
  },
  {
   "cell_type": "code",
   "execution_count": 8,
   "metadata": {},
   "outputs": [
    {
     "name": "stdout",
     "output_type": "stream",
     "text": [
      "[{'name': 'Ada', 'grades': {'Maths': 70, 'English': 50, 'Social_studies': 60, 'Computer': 66}}, {'name': 'Chioma', 'grades': {'Maths': 60, 'English': 60, 'Social_studies': 65, 'Computer': 54}}, {'name': 'Hillary', 'grades': {'Maths': 45, 'English': 30, 'Social_studies': 70, 'Computer': 67}}, {'name': 'Mmesoma', 'grades': {'Maths': 35, 'English': 50, 'Social_studies': 45, 'Computer': 65}}, {'name': 'David', 'grades': {'Maths': 20, 'English': 35, 'Social_studies': 45, 'Computer': 42}}, {'name': 'Nathan', 'grades': {'Maths': 50, 'English': 69, 'Social_studies': 45, 'Computer': 50}}, {'name': 'Elizabeth', 'grades': {'Maths': 70, 'English': 40, 'Social_studies': 30, 'Computer': 60}}, {'name': 'Gregory', 'grades': {'Maths': 30, 'English': 49, 'Social_studies': 35, 'Computer': 46}}],<function grade at 0x000002A7591CE980> for each subject\n"
     ]
    }
   ],
   "source": [
    "#grade points\n",
    "def grade(grade_letter):\n",
    "    # A = 70\n",
    "    # B = 60 - 69\n",
    "    # C = 50 - 59\n",
    "    # D = 40 - 49\n",
    "    # E = 30 - 39\n",
    "    # F =  0 - 29\n",
    "    if grade >= 70:\n",
    "            return 'A'\n",
    "    elif grade >= 60 and grade <= 69:\n",
    "            return 'B'\n",
    "    elif grade >= 50 and grade <= 59:\n",
    "            return 'C'\n",
    "    elif grade >= 40 and grade <= 49:\n",
    "            return 'D'\n",
    "    elif grade >= 30 and grade <= 39:\n",
    "            return 'E'\n",
    "    elif grade >=0 and grade <= 29:\n",
    "            return 'F'\n",
    "    return\n",
    "print(f\"{student},{grade} for each subject\")\n"
   ]
  },
  {
   "cell_type": "code",
   "execution_count": null,
   "metadata": {},
   "outputs": [],
   "source": [
    "# Define the passing grade threshold\n",
    "PASSING_GRADE = 50\n",
    "\n",
    "def calculate_average(grades):\n",
    "    \"\"\"Calculate the average of a list of grades.\"\"\"\n",
    "    return sum(grades) / len(grades)\n",
    "\n",
    "def has_passed(average_grade):\n",
    "    \"\"\"Determine if a student has passed based on the average grade.\"\"\"\n",
    "    return average_grade >= PASSING_GRADE\n",
    "\n",
    "def calculate_class_average(students):\n",
    "    \"\"\"Calculate the average grade for the entire class.\"\"\"\n",
    "    total = sum(student['average'] for student in students)\n",
    "    return total / len(students)\n",
    "\n",
    "def find_highest_and_lowest_grades(students):\n",
    "    \"\"\"Find the highest and lowest grades in the class.\"\"\"\n",
    "    all_grades = [grade for student in students for grade in student['grades']]\n",
    "    return max(all_grades), min(all_grades)\n",
    "\n",
    "def input_student_data():\n",
    "    \"\"\"Allow the user to input student names and their grades.\"\"\"\n",
    "    students = []\n",
    "    while True:\n",
    "        name = input(\"Enter student's name (or type 'done' to finish): \")\n",
    "        if name.lower() == 'done':\n",
    "            break\n",
    "        grades = []\n",
    "        while True:\n",
    "            grade_input = input(f\"Enter a grade for {name} (or type 'done' to finish): \")\n",
    "            if grade_input.lower() == 'done':\n",
    "                break\n",
    "            try:\n",
    "                grade = float(grade_input)\n",
    "                if 0 <= grade <= 100:\n",
    "                    grades.append(grade)\n",
    "                else:\n",
    "                    print(\"Please enter a grade between 0 and 100.\")\n",
    "            except ValueError:\n",
    "                print(\"Invalid input. Please enter a numeric value.\")\n",
    "        if grades:\n",
    "            students.append({\"name\": name, \"grades\": grades})\n",
    "        else:\n",
    "            print(f\"No grades entered for {name}. Student not added.\")\n",
    "    return students\n",
    "\n",
    "def main():\n",
    "    # Input student data\n",
    "    students = input_student_data()\n",
    "\n",
    "    if not students:\n",
    "        print(\"No student data entered.\")\n",
    "        return\n",
    "\n",
    "    # Calculate average grades for each student and determine pass/fail status\n",
    "    for student in students:\n",
    "        student['average'] = calculate_average(student['grades'])\n",
    "        student['status'] = 'Pass' if has_passed(student['average']) else 'Fail'\n",
    "\n",
    "    # Calculate class average\n",
    "    class_average = calculate_class_average(students)\n",
    "\n",
    "    # Find highest and lowest grades in the class\n",
    "    highest_grade, lowest_grade = find_highest_and_lowest_grades(students)\n",
    "\n",
    "    # Display each student's name, average grade, and pass/fail status\n",
    "    print(\"\\nStudent Performance:\")\n",
    "    for student in students:\n",
    "        print(f\"Name: {student['name']}, Average Grade: {student['average']:.2f}, Status: {student['status']}\")\n",
    "\n",
    "    # Display class average, highest and lowest grades\n",
    "    print(f\"\\nClass Average: {class_average:.2f}\")\n",
    "    print(f\"Highest Grade in Class: {highest_grade}\")\n",
    "    print(f\"Lowest Grade in Class: {lowest_grade}\")\n",
    "\n",
    "if __name__ == \"__main__\":\n",
    "    main()\n"
   ]
  },
  {
   "cell_type": "code",
   "execution_count": 1,
   "metadata": {},
   "outputs": [
    {
     "name": "stdout",
     "output_type": "stream",
     "text": [
      "Pynput is working!\n"
     ]
    }
   ],
   "source": [
    "from pynput.keyboard import Key, Controller\n",
    "\n",
    "keyboard = Controller()\n",
    "keyboard.press(Key.space)\n",
    "keyboard.release(Key.space)\n",
    "\n",
    "print(\"Pynput is working!\")\n"
   ]
  },
  {
   "cell_type": "code",
   "execution_count": 3,
   "metadata": {},
   "outputs": [
    {
     "ename": "NameError",
     "evalue": "name 'student' is not defined",
     "output_type": "error",
     "traceback": [
      "\u001b[1;31m---------------------------------------------------------------------------\u001b[0m",
      "\u001b[1;31mNameError\u001b[0m                                 Traceback (most recent call last)",
      "Cell \u001b[1;32mIn[3], line 1\u001b[0m\n\u001b[1;32m----> 1\u001b[0m \u001b[43mstudent\u001b[49m\n",
      "\u001b[1;31mNameError\u001b[0m: name 'student' is not defined"
     ]
    }
   ],
   "source": [
    "student"
   ]
  }
 ],
 "metadata": {
  "kernelspec": {
   "display_name": "Python 3",
   "language": "python",
   "name": "python3"
  },
  "language_info": {
   "codemirror_mode": {
    "name": "ipython",
    "version": 3
   },
   "file_extension": ".py",
   "mimetype": "text/x-python",
   "name": "python",
   "nbconvert_exporter": "python",
   "pygments_lexer": "ipython3",
   "version": "3.12.9"
  }
 },
 "nbformat": 4,
 "nbformat_minor": 2
}
