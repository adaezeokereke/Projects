{
 "cells": [
  {
   "cell_type": "code",
   "execution_count": 6,
   "metadata": {},
   "outputs": [],
   "source": [
    "#global students\n",
    "students = {} #dictionary to store all students and their grades\n",
    "\n",
    "def student_info(name,grade,average_grade):\n",
    "    students[name]='grade','average_grade'\n",
    "\n",
    "\n",
    "def grade_letter(grade):\n",
    "    name = input(\"enter your name: \")\n",
    "    grade = input(\"grade\")\n",
    "    # A = 70\n",
    "    # B = 60 - 69\n",
    "    # C = 50 - 59\n",
    "    # D = 40 - 49\n",
    "    # E = 30 - 39\n",
    "    # F =  0 - 29\n",
    "    if grade >= 70:\n",
    "            return 'A'\n",
    "    elif grade >= 60 and grade <= 69:\n",
    "            return 'B'\n",
    "    elif grade >= 50 and grade <= 59:\n",
    "            return 'C'\n",
    "    elif grade >= 40 and grade <= 49:\n",
    "            return 'D'\n",
    "    elif grade >= 30 and grade <= 39:\n",
    "            return 'E'\n",
    "    elif grade >=0 and grade <= 29:\n",
    "            return 'F'\n",
    "    return\n",
    "    if grade is None:\n",
    "        print(\"invalid grade\")\n",
    "    else:\n",
    "        print(f\"{name},{grade},({grade_letter(grade)})\")\n",
    "    return\n",
    "\n",
    "def average(grade):\n",
    "    #average grade for each student in the class is 50.\n",
    "    if grade >=30:\n",
    "        return 'Pass'\n",
    "    if grade < 30:\n",
    "        return 'Fail'\n",
    "    return\n",
    "\n"
   ]
  }
 ],
 "metadata": {
  "kernelspec": {
   "display_name": "Python 3",
   "language": "python",
   "name": "python3"
  },
  "language_info": {
   "codemirror_mode": {
    "name": "ipython",
    "version": 3
   },
   "file_extension": ".py",
   "mimetype": "text/x-python",
   "name": "python",
   "nbconvert_exporter": "python",
   "pygments_lexer": "ipython3",
   "version": "3.12.9"
  }
 },
 "nbformat": 4,
 "nbformat_minor": 2
}
